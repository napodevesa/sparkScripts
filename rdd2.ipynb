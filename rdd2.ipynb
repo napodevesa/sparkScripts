{
 "cells": [
  {
   "cell_type": "code",
   "execution_count": 1,
   "id": "0fdf29be-51ad-4482-b5a7-dd4849766dc9",
   "metadata": {},
   "outputs": [
    {
     "name": "stderr",
     "output_type": "stream",
     "text": [
      "Setting default log level to \"WARN\".\n",
      "To adjust logging level use sc.setLogLevel(newLevel). For SparkR, use setLogLevel(newLevel).\n",
      "24/02/07 15:28:31 WARN NativeCodeLoader: Unable to load native-hadoop library for your platform... using builtin-java classes where applicable\n",
      "24/02/07 15:28:31 WARN Utils: Service 'SparkUI' could not bind on port 4040. Attempting port 4041.\n"
     ]
    }
   ],
   "source": [
    "from pyspark import SparkConf, SparkContext\n",
    "\n",
    "# Verificar si ya existe un SparkContext\n",
    "try:\n",
    "    sc\n",
    "except NameError:\n",
    "    # Si no existe, crear un nuevo SparkContext\n",
    "    conf = SparkConf().setMaster(\"local\").setAppName(\"transformationAction2\")\n",
    "    sc = SparkContext(conf=conf)"
   ]
  },
  {
   "cell_type": "code",
   "execution_count": 2,
   "id": "40685621-d006-4776-8878-fc7712711785",
   "metadata": {},
   "outputs": [
    {
     "data": {
      "text/plain": [
       "pyspark.rdd.RDD"
      ]
     },
     "execution_count": 2,
     "metadata": {},
     "output_type": "execute_result"
    }
   ],
   "source": [
    "rdd1 = sc.parallelize([1,2,3])\n",
    "type (rdd1)"
   ]
  },
  {
   "cell_type": "code",
   "execution_count": 3,
   "id": "e18f4438-a58a-48f8-bdc7-350875fbe86d",
   "metadata": {},
   "outputs": [
    {
     "name": "stderr",
     "output_type": "stream",
     "text": [
      "                                                                                \r"
     ]
    },
    {
     "data": {
      "text/plain": [
       "[1, 2, 3]"
      ]
     },
     "execution_count": 3,
     "metadata": {},
     "output_type": "execute_result"
    }
   ],
   "source": [
    "rdd1.collect()"
   ]
  },
  {
   "cell_type": "code",
   "execution_count": 4,
   "id": "01462669-d18f-442c-b8f2-bd50a2f97d1e",
   "metadata": {},
   "outputs": [
    {
     "data": {
      "text/html": [
       "\n",
       "        <div>\n",
       "            <p><b>SparkContext</b></p>\n",
       "\n",
       "            <p><a href=\"http://192.168.0.69:4041\">Spark UI</a></p>\n",
       "\n",
       "            <dl>\n",
       "              <dt>Version</dt>\n",
       "                <dd><code>v3.5.0</code></dd>\n",
       "              <dt>Master</dt>\n",
       "                <dd><code>local</code></dd>\n",
       "              <dt>AppName</dt>\n",
       "                <dd><code>transformationAction2</code></dd>\n",
       "            </dl>\n",
       "        </div>\n",
       "        "
      ],
      "text/plain": [
       "<SparkContext master=local appName=transformationAction2>"
      ]
     },
     "execution_count": 4,
     "metadata": {},
     "output_type": "execute_result"
    }
   ],
   "source": [
    "sc"
   ]
  },
  {
   "cell_type": "code",
   "execution_count": 5,
   "id": "d1e2b450-ec2b-4cf1-81b8-aefcab3809ce",
   "metadata": {},
   "outputs": [
    {
     "name": "stdout",
     "output_type": "stream",
     "text": [
      "1.py             \u001b[34mdatasets\u001b[m\u001b[m/        rdd1.ipynb       text.rtf\n",
      "README.md        datatest.ipynb   \u001b[34msparkdata\u001b[m\u001b[m/       u.data\n",
      "Untitled.ipynb   delimiter.ipynb  test1.py\n",
      "counter.py       head.py          test2.py\n"
     ]
    }
   ],
   "source": [
    "ls"
   ]
  },
  {
   "cell_type": "code",
   "execution_count": 6,
   "id": "b9c2d080-9018-4780-9d5a-549e78c1b013",
   "metadata": {},
   "outputs": [
    {
     "name": "stdout",
     "output_type": "stream",
     "text": [
      "/Users/ndev/Desktop/sparkScripts/sparkdata\n"
     ]
    },
    {
     "name": "stderr",
     "output_type": "stream",
     "text": [
      "/Users/ndev/anaconda3/envs/bigdata/lib/python3.11/site-packages/IPython/core/magics/osm.py:417: UserWarning: using dhist requires you to install the `pickleshare` library.\n",
      "  self.shell.db['dhist'] = compress_dhist(dhist)[-100:]\n"
     ]
    }
   ],
   "source": [
    "cd sparkdata\n"
   ]
  },
  {
   "cell_type": "code",
   "execution_count": 7,
   "id": "3ba0cef2-60d0-455b-937e-583bf8856470",
   "metadata": {},
   "outputs": [
    {
     "name": "stdout",
     "output_type": "stream",
     "text": [
      "1. Jupyter vs CLI.ipynb\n",
      "2. Primer RDD.ipynb\n",
      "3. Transformaciones y Acciones sobre RDDs.ipynb\n",
      "4. DF y replicacion.ipynb\n",
      "5. Particionado.ipynb\n",
      "README.md\n",
      "codeExample.py\n",
      "\u001b[34mconfiguracion\u001b[m\u001b[m/\n",
      "data.csv\n",
      "\u001b[34mfiles\u001b[m\u001b[m/\n"
     ]
    }
   ],
   "source": [
    "ls\n"
   ]
  },
  {
   "cell_type": "code",
   "execution_count": 8,
   "id": "036bc932-7a96-4905-99fc-36526fe517e9",
   "metadata": {},
   "outputs": [],
   "source": [
    "path = \"/Users/ndev/Desktop/sparkScripts/sparkdata/files/\""
   ]
  },
  {
   "cell_type": "code",
   "execution_count": 9,
   "id": "058ae195-f2f8-4626-a75f-2a3d9a5137d8",
   "metadata": {},
   "outputs": [],
   "source": [
    "equiposOlimpicosrdd = sc.textFile(path + \"paises.csv\").map (lambda line : line.split (\",\"))\n"
   ]
  },
  {
   "cell_type": "code",
   "execution_count": 10,
   "id": "122af4ab-8e56-488c-b4f5-7d77d4a0939e",
   "metadata": {},
   "outputs": [
    {
     "data": {
      "text/plain": [
       "[['id', 'equipo', 'sigla'],\n",
       " ['1', '30. Februar', 'AUT'],\n",
       " ['2', 'A North American Team', 'MEX'],\n",
       " ['3', 'Acipactli', 'MEX'],\n",
       " ['4', 'Acturus', 'ARG']]"
      ]
     },
     "execution_count": 10,
     "metadata": {},
     "output_type": "execute_result"
    }
   ],
   "source": [
    "equiposOlimpicosrdd.take(5)"
   ]
  },
  {
   "cell_type": "code",
   "execution_count": 11,
   "id": "793f9033-6a19-4d1a-ac96-b20555c2537e",
   "metadata": {},
   "outputs": [
    {
     "data": {
      "text/plain": [
       "[['id', 'equipo', 'sigla'],\n",
       " ['1', '30. Februar', 'AUT'],\n",
       " ['2', 'A North American Team', 'MEX'],\n",
       " ['3', 'Acipactli', 'MEX'],\n",
       " ['4', 'Acturus', 'ARG'],\n",
       " ['5', 'Afghanistan', 'AFG'],\n",
       " ['6', 'Akatonbo', 'IRL'],\n",
       " ['7', 'Alain IV', 'SUI'],\n",
       " ['8', 'Albania', 'ALB'],\n",
       " ['9', 'Alcaid', 'POR']]"
      ]
     },
     "execution_count": 11,
     "metadata": {},
     "output_type": "execute_result"
    }
   ],
   "source": [
    "equiposOlimpicosrdd.take(10)"
   ]
  },
  {
   "cell_type": "code",
   "execution_count": 12,
   "id": "d9379605-e71b-49d6-a023-c603b68afe92",
   "metadata": {},
   "outputs": [
    {
     "data": {
      "text/plain": [
       "231"
      ]
     },
     "execution_count": 12,
     "metadata": {},
     "output_type": "execute_result"
    }
   ],
   "source": [
    "equiposOlimpicosrdd.map(lambda x: (x[2])).distinct().count()"
   ]
  },
  {
   "cell_type": "code",
   "execution_count": null,
   "id": "a6703d2a-21f8-4ec6-b822-e653c0abab3b",
   "metadata": {},
   "outputs": [],
   "source": []
  }
 ],
 "metadata": {
  "kernelspec": {
   "display_name": "Python 3 (ipykernel)",
   "language": "python",
   "name": "python3"
  },
  "language_info": {
   "codemirror_mode": {
    "name": "ipython",
    "version": 3
   },
   "file_extension": ".py",
   "mimetype": "text/x-python",
   "name": "python",
   "nbconvert_exporter": "python",
   "pygments_lexer": "ipython3",
   "version": "3.11.7"
  }
 },
 "nbformat": 4,
 "nbformat_minor": 5
}
