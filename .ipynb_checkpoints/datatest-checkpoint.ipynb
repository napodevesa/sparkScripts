{
 "cells": [
  {
   "cell_type": "code",
   "execution_count": 3,
   "id": "bea7c28b-0dfa-425e-946f-642c437bbb21",
   "metadata": {},
   "outputs": [
    {
     "name": "stdout",
     "output_type": "stream",
     "text": [
      "+---+---+---+---------+\n",
      "|_c0|_c1|_c2|      _c3|\n",
      "+---+---+---+---------+\n",
      "|196|242|  3|881250949|\n",
      "|186|302|  3|891717742|\n",
      "| 22|377|  1|878887116|\n",
      "|244| 51|  2|880606923|\n",
      "|166|346|  1|886397596|\n",
      "+---+---+---+---------+\n",
      "only showing top 5 rows\n",
      "\n"
     ]
    }
   ],
   "source": [
    "from pyspark.sql import SparkSession\n",
    "\n",
    "# Inicializar la sesión Spark\n",
    "spark = SparkSession.builder \\\n",
    "    .appName(\"Head Example\") \\\n",
    "    .getOrCreate()\n",
    "\n",
    "# Ruta del archivo u.data\n",
    "file_path = \"/Users/ndev/Desktop/sparkScripts/u.data\"\n",
    "\n",
    "# Leer el archivo como un DataFrame\n",
    "df = spark.read.option(\"delimiter\", \"\\t\").csv(file_path, inferSchema=True)\n",
    "\n",
    "# Mostrar las primeras filas del DataFrame\n",
    "df.show(5)\n",
    "\n",
    "# Detener la sesión Spark\n",
    "spark.stop()"
   ]
  },
  {
   "cell_type": "code",
   "execution_count": 7,
   "id": "24360542-4942-4a09-a2b2-2380c07ee3a3",
   "metadata": {},
   "outputs": [
    {
     "name": "stdout",
     "output_type": "stream",
     "text": [
      "1 6110\n",
      "2 11370\n",
      "3 27145\n",
      "4 34174\n",
      "5 21201\n"
     ]
    }
   ],
   "source": [
    "from pyspark import SparkConf, SparkContext\n",
    "from pyspark.sql import SparkSession\n",
    "import collections\n",
    "\n",
    "# Verificar si ya existe un SparkContext\n",
    "try:\n",
    "    sc\n",
    "except NameError:\n",
    "    # Si no existe, crear un nuevo SparkContext\n",
    "    conf = SparkConf().setMaster(\"local\").setAppName(\"RatingHist\")\n",
    "    sc = SparkContext(conf=conf)\n",
    "\n",
    "    # Crear un SparkSession para compatibilidad con DataFrames\n",
    "    spark = SparkSession(sc)\n",
    "\n",
    "# Resto del código\n",
    "lines = sc.textFile(\"/Users/ndev/Desktop/sparkScripts/u.data\")\n",
    "ratings = lines.map(lambda x: x.split()[2])\n",
    "result = ratings.countByValue()\n",
    "\n",
    "sortedResults = collections.OrderedDict(sorted(result.items()))\n",
    "for key, value in sortedResults.items():\n",
    "    print(\"%s %i\" % (key, value))\n"
   ]
  },
  {
   "cell_type": "code",
   "execution_count": null,
   "id": "0d31c8f2-18a7-4af5-87a0-c9d80699893a",
   "metadata": {},
   "outputs": [],
   "source": []
  }
 ],
 "metadata": {
  "kernelspec": {
   "display_name": "Python 3 (ipykernel)",
   "language": "python",
   "name": "python3"
  },
  "language_info": {
   "codemirror_mode": {
    "name": "ipython",
    "version": 3
   },
   "file_extension": ".py",
   "mimetype": "text/x-python",
   "name": "python",
   "nbconvert_exporter": "python",
   "pygments_lexer": "ipython3",
   "version": "3.11.7"
  }
 },
 "nbformat": 4,
 "nbformat_minor": 5
}
