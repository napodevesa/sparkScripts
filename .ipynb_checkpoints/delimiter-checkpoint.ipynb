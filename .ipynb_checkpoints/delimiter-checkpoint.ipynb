{
 "cells": [
  {
   "cell_type": "code",
   "execution_count": 1,
   "id": "bea7c28b-0dfa-425e-946f-642c437bbb21",
   "metadata": {},
   "outputs": [
    {
     "name": "stderr",
     "output_type": "stream",
     "text": [
      "Setting default log level to \"WARN\".\n",
      "To adjust logging level use sc.setLogLevel(newLevel). For SparkR, use setLogLevel(newLevel).\n",
      "24/02/07 10:59:26 WARN NativeCodeLoader: Unable to load native-hadoop library for your platform... using builtin-java classes where applicable\n"
     ]
    },
    {
     "name": "stdout",
     "output_type": "stream",
     "text": [
      "+---+---+---+---------+\n",
      "|_c0|_c1|_c2|      _c3|\n",
      "+---+---+---+---------+\n",
      "|196|242|  3|881250949|\n",
      "|186|302|  3|891717742|\n",
      "| 22|377|  1|878887116|\n",
      "|244| 51|  2|880606923|\n",
      "|166|346|  1|886397596|\n",
      "+---+---+---+---------+\n",
      "only showing top 5 rows\n",
      "\n"
     ]
    }
   ],
   "source": [
    "from pyspark.sql import SparkSession\n",
    "\n",
    "# Inicializar la sesión Spark\n",
    "spark = SparkSession.builder \\\n",
    "    .appName(\"Head Example\") \\\n",
    "    .getOrCreate()\n",
    "\n",
    "# Ruta del archivo u.data\n",
    "file_path = \"/Users/ndev/Desktop/SparkDev/u.data\"\n",
    "\n",
    "# Leer el archivo como un DataFrame\n",
    "df = spark.read.option(\"delimiter\", \"\\t\").csv(file_path, inferSchema=True)\n",
    "\n",
    "# Mostrar las primeras filas del DataFrame\n",
    "df.show(5)\n",
    "\n",
    "# Detener la sesión Spark\n",
    "spark.stop()"
   ]
  },
  {
   "cell_type": "code",
   "execution_count": null,
   "id": "24360542-4942-4a09-a2b2-2380c07ee3a3",
   "metadata": {},
   "outputs": [],
   "source": []
  }
 ],
 "metadata": {
  "kernelspec": {
   "display_name": "Python 3 (ipykernel)",
   "language": "python",
   "name": "python3"
  },
  "language_info": {
   "codemirror_mode": {
    "name": "ipython",
    "version": 3
   },
   "file_extension": ".py",
   "mimetype": "text/x-python",
   "name": "python",
   "nbconvert_exporter": "python",
   "pygments_lexer": "ipython3",
   "version": "3.11.7"
  }
 },
 "nbformat": 4,
 "nbformat_minor": 5
}
