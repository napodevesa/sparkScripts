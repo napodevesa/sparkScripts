{
 "cells": [
  {
   "cell_type": "code",
   "execution_count": 3,
   "id": "0fdf29be-51ad-4482-b5a7-dd4849766dc9",
   "metadata": {},
   "outputs": [
    {
     "name": "stderr",
     "output_type": "stream",
     "text": [
      "Setting default log level to \"WARN\".\n",
      "To adjust logging level use sc.setLogLevel(newLevel). For SparkR, use setLogLevel(newLevel).\n",
      "24/02/07 15:56:45 WARN NativeCodeLoader: Unable to load native-hadoop library for your platform... using builtin-java classes where applicable\n"
     ]
    }
   ],
   "source": [
    "from pyspark import SparkConf, SparkContext\n",
    "\n",
    "# Verificar si ya existe un SparkContext\n",
    "try:\n",
    "    sc\n",
    "except NameError:\n",
    "    # Si no existe, crear un nuevo SparkContext\n",
    "    conf = SparkConf().setMaster(\"local\").setAppName(\"transformationAction2\")\n",
    "    sc = SparkContext(conf=conf)"
   ]
  },
  {
   "cell_type": "code",
   "execution_count": 4,
   "id": "40685621-d006-4776-8878-fc7712711785",
   "metadata": {},
   "outputs": [
    {
     "data": {
      "text/plain": [
       "pyspark.rdd.RDD"
      ]
     },
     "execution_count": 4,
     "metadata": {},
     "output_type": "execute_result"
    }
   ],
   "source": [
    "rdd1 = sc.parallelize([1,2,3])\n",
    "type (rdd1)"
   ]
  },
  {
   "cell_type": "code",
   "execution_count": 5,
   "id": "e18f4438-a58a-48f8-bdc7-350875fbe86d",
   "metadata": {},
   "outputs": [
    {
     "name": "stderr",
     "output_type": "stream",
     "text": [
      "                                                                                \r"
     ]
    },
    {
     "data": {
      "text/plain": [
       "[1, 2, 3]"
      ]
     },
     "execution_count": 5,
     "metadata": {},
     "output_type": "execute_result"
    }
   ],
   "source": [
    "rdd1.collect()"
   ]
  },
  {
   "cell_type": "code",
   "execution_count": 6,
   "id": "01462669-d18f-442c-b8f2-bd50a2f97d1e",
   "metadata": {},
   "outputs": [
    {
     "data": {
      "text/html": [
       "\n",
       "        <div>\n",
       "            <p><b>SparkContext</b></p>\n",
       "\n",
       "            <p><a href=\"http://192.168.0.69:4040\">Spark UI</a></p>\n",
       "\n",
       "            <dl>\n",
       "              <dt>Version</dt>\n",
       "                <dd><code>v3.5.0</code></dd>\n",
       "              <dt>Master</dt>\n",
       "                <dd><code>local</code></dd>\n",
       "              <dt>AppName</dt>\n",
       "                <dd><code>transformationAction2</code></dd>\n",
       "            </dl>\n",
       "        </div>\n",
       "        "
      ],
      "text/plain": [
       "<SparkContext master=local appName=transformationAction2>"
      ]
     },
     "execution_count": 6,
     "metadata": {},
     "output_type": "execute_result"
    }
   ],
   "source": [
    "sc"
   ]
  },
  {
   "cell_type": "code",
   "execution_count": 7,
   "id": "d1e2b450-ec2b-4cf1-81b8-aefcab3809ce",
   "metadata": {},
   "outputs": [
    {
     "name": "stdout",
     "output_type": "stream",
     "text": [
      "1.py             datatest.ipynb   rdd2.ipynb       text.rtf\n",
      "README.md        delimiter.ipynb  \u001b[34msparkdata\u001b[m\u001b[m/       u.data\n",
      "counter.py       head.py          test1.py\n",
      "\u001b[34mdatasets\u001b[m\u001b[m/        rdd1.ipynb       test2.py\n"
     ]
    }
   ],
   "source": [
    "ls"
   ]
  },
  {
   "cell_type": "code",
   "execution_count": 8,
   "id": "b9c2d080-9018-4780-9d5a-549e78c1b013",
   "metadata": {},
   "outputs": [
    {
     "name": "stdout",
     "output_type": "stream",
     "text": [
      "/Users/ndev/Desktop/sparkScripts/sparkdata\n"
     ]
    },
    {
     "name": "stderr",
     "output_type": "stream",
     "text": [
      "/Users/ndev/anaconda3/envs/bigdata/lib/python3.11/site-packages/IPython/core/magics/osm.py:417: UserWarning: using dhist requires you to install the `pickleshare` library.\n",
      "  self.shell.db['dhist'] = compress_dhist(dhist)[-100:]\n"
     ]
    }
   ],
   "source": [
    "cd sparkdata\n"
   ]
  },
  {
   "cell_type": "code",
   "execution_count": 9,
   "id": "3ba0cef2-60d0-455b-937e-583bf8856470",
   "metadata": {},
   "outputs": [
    {
     "name": "stdout",
     "output_type": "stream",
     "text": [
      "1. Jupyter vs CLI.ipynb\n",
      "2. Primer RDD.ipynb\n",
      "3. Transformaciones y Acciones sobre RDDs.ipynb\n",
      "4. DF y replicacion.ipynb\n",
      "5. Particionado.ipynb\n",
      "README.md\n",
      "codeExample.py\n",
      "\u001b[34mconfiguracion\u001b[m\u001b[m/\n",
      "data.csv\n",
      "\u001b[34mfiles\u001b[m\u001b[m/\n"
     ]
    }
   ],
   "source": [
    "ls\n"
   ]
  },
  {
   "cell_type": "code",
   "execution_count": 10,
   "id": "036bc932-7a96-4905-99fc-36526fe517e9",
   "metadata": {},
   "outputs": [],
   "source": [
    "path = \"/Users/ndev/Desktop/sparkScripts/sparkdata/files/\""
   ]
  },
  {
   "cell_type": "code",
   "execution_count": 11,
   "id": "058ae195-f2f8-4626-a75f-2a3d9a5137d8",
   "metadata": {},
   "outputs": [],
   "source": [
    "equiposOlimpicosrdd = sc.textFile(path + \"paises.csv\").map (lambda line : line.split (\",\"))\n"
   ]
  },
  {
   "cell_type": "code",
   "execution_count": 12,
   "id": "122af4ab-8e56-488c-b4f5-7d77d4a0939e",
   "metadata": {},
   "outputs": [
    {
     "data": {
      "text/plain": [
       "[['id', 'equipo', 'sigla'],\n",
       " ['1', '30. Februar', 'AUT'],\n",
       " ['2', 'A North American Team', 'MEX'],\n",
       " ['3', 'Acipactli', 'MEX'],\n",
       " ['4', 'Acturus', 'ARG']]"
      ]
     },
     "execution_count": 12,
     "metadata": {},
     "output_type": "execute_result"
    }
   ],
   "source": [
    "equiposOlimpicosrdd.take(5)"
   ]
  },
  {
   "cell_type": "code",
   "execution_count": 13,
   "id": "793f9033-6a19-4d1a-ac96-b20555c2537e",
   "metadata": {},
   "outputs": [
    {
     "data": {
      "text/plain": [
       "[['id', 'equipo', 'sigla'],\n",
       " ['1', '30. Februar', 'AUT'],\n",
       " ['2', 'A North American Team', 'MEX'],\n",
       " ['3', 'Acipactli', 'MEX'],\n",
       " ['4', 'Acturus', 'ARG'],\n",
       " ['5', 'Afghanistan', 'AFG'],\n",
       " ['6', 'Akatonbo', 'IRL'],\n",
       " ['7', 'Alain IV', 'SUI'],\n",
       " ['8', 'Albania', 'ALB'],\n",
       " ['9', 'Alcaid', 'POR']]"
      ]
     },
     "execution_count": 13,
     "metadata": {},
     "output_type": "execute_result"
    }
   ],
   "source": [
    "equiposOlimpicosrdd.take(10)"
   ]
  },
  {
   "cell_type": "code",
   "execution_count": 14,
   "id": "d9379605-e71b-49d6-a023-c603b68afe92",
   "metadata": {},
   "outputs": [
    {
     "data": {
      "text/plain": [
       "231"
      ]
     },
     "execution_count": 14,
     "metadata": {},
     "output_type": "execute_result"
    }
   ],
   "source": [
    "equiposOlimpicosrdd.map(lambda x: (x[2])).distinct().count()"
   ]
  },
  {
   "cell_type": "code",
   "execution_count": 17,
   "id": "a6703d2a-21f8-4ec6-b822-e653c0abab3b",
   "metadata": {},
   "outputs": [
    {
     "data": {
      "text/plain": [
       "[('sigla', 1), ('AUT', 11), ('MEX', 9), ('ARG', 18), ('AFG', 1)]"
      ]
     },
     "execution_count": 17,
     "metadata": {},
     "output_type": "execute_result"
    }
   ],
   "source": [
    "equiposOlimpicosrdd.map(lambda x: (x[2], x[1])).groupByKey().mapValues(len).take(5)\n"
   ]
  },
  {
   "cell_type": "code",
   "execution_count": 18,
   "id": "4a3da61c-3765-4ba0-9e20-0c74c5387d16",
   "metadata": {},
   "outputs": [
    {
     "data": {
      "text/plain": [
       "[('sigla', ['equipo']),\n",
       " ('AUT',\n",
       "  ['30. Februar',\n",
       "   'Austria',\n",
       "   'Austria-1',\n",
       "   'Austria-2',\n",
       "   'Breslau',\n",
       "   'Brigantia',\n",
       "   'Donar III',\n",
       "   'Evita VI',\n",
       "   'May-Be 1960',\n",
       "   '\"R.-V. Germania; Leitmeritz\"',\n",
       "   'Surprise']),\n",
       " ('MEX',\n",
       "  ['A North American Team',\n",
       "   'Acipactli',\n",
       "   'Chamukina',\n",
       "   'Mexico',\n",
       "   'Mexico-1',\n",
       "   'Mexico-2',\n",
       "   'Nausikaa 4',\n",
       "   'Tlaloc',\n",
       "   'Xolotl']),\n",
       " ('ARG',\n",
       "  ['Acturus',\n",
       "   'Antares',\n",
       "   'Arcturus',\n",
       "   'Ardilla',\n",
       "   'Argentina',\n",
       "   'Argentina-1',\n",
       "   'Argentina-2',\n",
       "   'Blue Red',\n",
       "   'Covunco III',\n",
       "   'Cupidon III',\n",
       "   'Djinn',\n",
       "   'Gullvinge',\n",
       "   'Matrero II',\n",
       "   'Mizar',\n",
       "   'Pampero',\n",
       "   'Rampage',\n",
       "   'Tango',\n",
       "   'Wiking']),\n",
       " ('AFG', ['Afghanistan'])]"
      ]
     },
     "execution_count": 18,
     "metadata": {},
     "output_type": "execute_result"
    }
   ],
   "source": [
    "equiposOlimpicosrdd.map(lambda x: (x[2], x[1])).groupByKey().mapValues(list).take(5)\n"
   ]
  },
  {
   "cell_type": "code",
   "execution_count": 35,
   "id": "f27ab489-dac8-4618-acff-9b41f7ee1c97",
   "metadata": {},
   "outputs": [
    {
     "data": {
      "text/plain": [
       "[['4', 'Acturus', 'ARG'],\n",
       " ['37', 'Antares', 'ARG'],\n",
       " ['42', 'Arcturus', 'ARG'],\n",
       " ['43', 'Ardilla', 'ARG'],\n",
       " ['45', 'Argentina', 'ARG']]"
      ]
     },
     "execution_count": 35,
     "metadata": {},
     "output_type": "execute_result"
    }
   ],
   "source": [
    "equiposArgentinos = equiposOlimpicosrdd.filter(lambda l : \"ARG\" in l )\n",
    "equiposArgentinos.take(5)"
   ]
  },
  {
   "cell_type": "code",
   "execution_count": 22,
   "id": "a159d847-5555-4f3a-be40-56e4ed6359a4",
   "metadata": {},
   "outputs": [
    {
     "data": {
      "text/plain": [
       "1185"
      ]
     },
     "execution_count": 22,
     "metadata": {},
     "output_type": "execute_result"
    }
   ],
   "source": [
    "equiposOlimpicosRDD.countApprox(30)"
   ]
  },
  {
   "cell_type": "code",
   "execution_count": 23,
   "id": "b96f8e3d-44cb-4cbb-a0fe-7cd9fdd127ed",
   "metadata": {},
   "outputs": [
    {
     "name": "stdout",
     "output_type": "stream",
     "text": [
      "1. Jupyter vs CLI.ipynb\n",
      "2. Primer RDD.ipynb\n",
      "3. Transformaciones y Acciones sobre RDDs.ipynb\n",
      "4. DF y replicacion.ipynb\n",
      "5. Particionado.ipynb\n",
      "README.md\n",
      "codeExample.py\n",
      "\u001b[34mconfiguracion\u001b[m\u001b[m/\n",
      "data.csv\n",
      "\u001b[34mfiles\u001b[m\u001b[m/\n"
     ]
    }
   ],
   "source": [
    "ls\n"
   ]
  },
  {
   "cell_type": "code",
   "execution_count": 24,
   "id": "ab4d5268-2433-4671-8ca9-8f1b3021394d",
   "metadata": {},
   "outputs": [
    {
     "name": "stdout",
     "output_type": "stream",
     "text": [
      "/Users/ndev/Desktop/sparkScripts/sparkdata/files\n"
     ]
    },
    {
     "name": "stderr",
     "output_type": "stream",
     "text": [
      "/Users/ndev/anaconda3/envs/bigdata/lib/python3.11/site-packages/IPython/core/magics/osm.py:417: UserWarning: using dhist requires you to install the `pickleshare` library.\n",
      "  self.shell.db['dhist'] = compress_dhist(dhist)[-100:]\n"
     ]
    }
   ],
   "source": [
    "cd files\n"
   ]
  },
  {
   "cell_type": "code",
   "execution_count": 28,
   "id": "af7fcf15-e9e6-4c66-b679-8986c84edf7c",
   "metadata": {},
   "outputs": [
    {
     "data": {
      "text/plain": [
       "[['67787', 'Lee BongJu', '1', '27', '167', '56', '970'],\n",
       " ['67788', 'Lee BuTi', '1', '23', '164', '54', '203'],\n",
       " ['67789', 'Anthony N. Buddy Lee', '1', '34', '172', '62', '1096'],\n",
       " ['67790', 'Alfred A. Butch Lee Porter', '1', '19', '186', '80', '825'],\n",
       " ['67791', 'Lee ByeongGu', '1', '22', '175', '68', '970']]"
      ]
     },
     "execution_count": 28,
     "metadata": {},
     "output_type": "execute_result"
    }
   ],
   "source": [
    "deportistaOlimpicoRDD = sc.textFile(path + \"deportista.csv\").map(lambda l: l.split(\",\"))\n",
    "deportistaOlimpico.take(5)\n",
    "deportistaOlimpicoRDD2 = sc.textFile(path + \"deportista2.csv\").map(lambda l: l.split(\",\"))\n",
    "deportistaOlimpico2.take(5)"
   ]
  },
  {
   "cell_type": "code",
   "execution_count": 32,
   "id": "ad0c1e72-4818-4212-84de-c815ec4bf082",
   "metadata": {},
   "outputs": [
    {
     "data": {
      "text/plain": [
       "[['deportista_id', 'nombre', 'genero', 'edad', 'altura', 'peso', 'equipo_id'],\n",
       " ['1', 'A Dijiang', '1', '24', '180', '80', '199'],\n",
       " ['2', 'A Lamusi', '1', '23', '170', '60', '199'],\n",
       " ['3', 'Gunnar Nielsen Aaby', '1', '24', '0', '0', '273'],\n",
       " ['4', 'Edgar Lindenau Aabye', '1', '34', '0', '0', '278']]"
      ]
     },
     "execution_count": 32,
     "metadata": {},
     "output_type": "execute_result"
    }
   ],
   "source": [
    "deportistaOlimpicoRDD = deportistaOlimpicoRDD.union(deportistaOlimpicoRDD2)\n",
    "deportistaOlimpicoRDD.take(5)\n"
   ]
  },
  {
   "cell_type": "code",
   "execution_count": 33,
   "id": "feabb888-7790-4e59-9dab-e5ff4cf9238d",
   "metadata": {},
   "outputs": [
    {
     "data": {
      "text/plain": [
       "338927"
      ]
     },
     "execution_count": 33,
     "metadata": {},
     "output_type": "execute_result"
    }
   ],
   "source": [
    "deportistaOlimpicoRDD.count()"
   ]
  },
  {
   "cell_type": "code",
   "execution_count": 39,
   "id": "c32ec081-8a9b-4f8a-8489-26e481c164c6",
   "metadata": {},
   "outputs": [
    {
     "data": {
      "text/plain": [
       "[['id', 'equipo', 'sigla'], ['999', 'Stella-2', 'NOR']]"
      ]
     },
     "execution_count": 39,
     "metadata": {},
     "output_type": "execute_result"
    }
   ],
   "source": [
    "equiposOlimpicosrdd.top(2)"
   ]
  },
  {
   "cell_type": "code",
   "execution_count": 40,
   "id": "c8058ae2-11a4-4253-8ee8-3ce304c05ccd",
   "metadata": {},
   "outputs": [
    {
     "data": {
      "text/plain": [
       "[['deportista_id', 'nombre', 'genero', 'edad', 'altura', 'peso', 'equipo_id'],\n",
       " ['99999', 'Alexander Grant Alick Rennie', '1', '32', '182', '71', '967']]"
      ]
     },
     "execution_count": 40,
     "metadata": {},
     "output_type": "execute_result"
    }
   ],
   "source": [
    "deportistaOlimpicoRDD.top(2)"
   ]
  },
  {
   "cell_type": "code",
   "execution_count": 42,
   "id": "dedc6fca-a8a5-42ce-a55f-15505a49b1cd",
   "metadata": {},
   "outputs": [
    {
     "name": "stderr",
     "output_type": "stream",
     "text": [
      "                                                                                \r"
     ]
    },
    {
     "data": {
      "text/plain": [
       "[('742', (['20', 'Kjetil Andr Aamodt', '1', '20', '176', '85'], 'NOR')),\n",
       " ('742', (['21', 'Ragnhild Margrethe Aamodt', '2', '27', '163', '0'], 'NOR')),\n",
       " ('742', (['23', 'Fritz Aanes', '1', '22', '187', '89'], 'NOR')),\n",
       " ('742', (['24', 'Nils Egil Aaness', '1', '24', '0', '0'], 'NOR')),\n",
       " ('742', (['25', 'Alf Lied Aanning', '1', '24', '0', '0'], 'NOR'))]"
      ]
     },
     "execution_count": 42,
     "metadata": {},
     "output_type": "execute_result"
    }
   ],
   "source": [
    "deportistaOlimpicoRDD.map(lambda l: [l[-1],l[:-1]]).join(equiposOlimpicosrdd.map(lambda x : [x[0], x[2]])).take(5)"
   ]
  },
  {
   "cell_type": "code",
   "execution_count": 43,
   "id": "59de562a-c1d9-4d13-8091-4b11ffe327c3",
   "metadata": {},
   "outputs": [
    {
     "name": "stderr",
     "output_type": "stream",
     "text": [
      "                                                                                \r"
     ]
    },
    {
     "data": {
      "text/plain": [
       "[('71', (['31776', 'Johann Eisl', '1', '25', '187', '78'], 'AUT')),\n",
       " ('738', (['59890', 'Kim GwangChol', '1', '22', '0', '0'], 'PRK')),\n",
       " ('399', (['55867', 'Bjrn Joppien', '1', '23', '191', '87'], 'GER')),\n",
       " ('1178', (['116995', 'Zdenek vigelj', '1', '0', '0', '0'], 'YUG')),\n",
       " ('225',\n",
       "  (['18562', 'Yeseida Isaid Carrillo Torres', '2', '22', '168', '52'], 'COL')),\n",
       " ('154', (['114497', 'Antoni Toni Statelov', '1', '26', '0', '0'], 'BUL'))]"
      ]
     },
     "execution_count": 43,
     "metadata": {},
     "output_type": "execute_result"
    }
   ],
   "source": [
    "deportistaOlimpicoRDD.map(lambda l: [l[-1],l[:-1]]).join(equiposOlimpicosrdd.map(lambda x : [x[0], x[2]])).takeSample(False, 6, 25)"
   ]
  },
  {
   "cell_type": "code",
   "execution_count": 44,
   "id": "5923a849-5a23-4d29-ae8d-7d69ab81c3f5",
   "metadata": {},
   "outputs": [
    {
     "name": "stdout",
     "output_type": "stream",
     "text": [
      "deporte.csv            deportistaError.csv    modelo_relacional.jpg\n",
      "deportista.csv         evento.csv             paises.csv\n",
      "deportista2.csv        juegos.csv             resultados.csv\n"
     ]
    }
   ],
   "source": [
    "ls\n"
   ]
  },
  {
   "cell_type": "code",
   "execution_count": 45,
   "id": "ba2d5eb8-e515-4506-82bb-dcb1fc272282",
   "metadata": {},
   "outputs": [],
   "source": [
    "resultado = sc.textFile(path + \"resultados.csv\").map(lambda l: l.split(\",\"))"
   ]
  },
  {
   "cell_type": "code",
   "execution_count": 46,
   "id": "47e06b37-9ca6-4a6d-95e6-3b0171bf27c3",
   "metadata": {},
   "outputs": [
    {
     "data": {
      "text/plain": [
       "[['resultado_id', 'medalla', 'deportista_id', 'juego_id', 'evento_id'],\n",
       " ['1', 'NA', '1', '39', '1'],\n",
       " ['2', 'NA', '2', '49', '2'],\n",
       " ['3', 'NA', '3', '7', '3'],\n",
       " ['4', 'Gold', '4', '2', '4']]"
      ]
     },
     "execution_count": 46,
     "metadata": {},
     "output_type": "execute_result"
    }
   ],
   "source": [
    "resultado.take(5)"
   ]
  },
  {
   "cell_type": "code",
   "execution_count": 47,
   "id": "1bb3464b-1e05-4c6e-9ed0-68a0f09df9c2",
   "metadata": {},
   "outputs": [],
   "source": [
    "resultadoGanador = resultado.filter(lambda l : \"NA\" not in l[1])"
   ]
  },
  {
   "cell_type": "code",
   "execution_count": 48,
   "id": "1203cfed-b8a1-4d9d-8a89-ee099beaa98c",
   "metadata": {},
   "outputs": [
    {
     "data": {
      "text/plain": [
       "[['resultado_id', 'medalla', 'deportista_id', 'juego_id', 'evento_id'],\n",
       " ['4', 'Gold', '4', '2', '4'],\n",
       " ['38', 'Bronze', '15', '7', '19'],\n",
       " ['39', 'Bronze', '15', '7', '20'],\n",
       " ['41', 'Bronze', '16', '50', '14']]"
      ]
     },
     "execution_count": 48,
     "metadata": {},
     "output_type": "execute_result"
    }
   ],
   "source": [
    "resultadoGanador.take(5)"
   ]
  },
  {
   "cell_type": "code",
   "execution_count": null,
   "id": "95116880-178c-4989-b11e-e349263048a8",
   "metadata": {},
   "outputs": [],
   "source": []
  }
 ],
 "metadata": {
  "kernelspec": {
   "display_name": "Python 3 (ipykernel)",
   "language": "python",
   "name": "python3"
  },
  "language_info": {
   "codemirror_mode": {
    "name": "ipython",
    "version": 3
   },
   "file_extension": ".py",
   "mimetype": "text/x-python",
   "name": "python",
   "nbconvert_exporter": "python",
   "pygments_lexer": "ipython3",
   "version": "3.11.7"
  }
 },
 "nbformat": 4,
 "nbformat_minor": 5
}
